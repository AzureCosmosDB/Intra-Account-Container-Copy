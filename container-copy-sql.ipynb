{
    "metadata": {
        "kernelspec": {
            "name": "powershell",
            "display_name": "PowerShell",
            "language": "powershell"
        },
        "language_info": {
            "name": "powershell",
            "codemirror_mode": "shell",
            "mimetype": "text/x-sh",
            "file_extension": ".ps1"
        }
    },
    "nbformat_minor": 2,
    "nbformat": 4,
    "cells": [
        {
            "cell_type": "markdown",
            "source": [
                "# Create and monitor copy collection jobs in Azure Cosmos DB SQL API account"
            ],
            "metadata": {
                "azdata_cell_guid": "098d3b36-6ce8-4728-8018-37e5585cd578"
            },
            "attachments": {}
        },
        {
            "cell_type": "markdown",
            "source": [
                "## Login to the Subscription."
            ],
            "metadata": {
                "azdata_cell_guid": "091f799f-e5ef-4361-b849-f3a48c318aee"
            },
            "attachments": {}
        },
        {
            "cell_type": "code",
            "source": [
                "az login"
            ],
            "metadata": {
                "azdata_cell_guid": "f140e01a-878a-4d53-b798-9312d1de8d80",
                "language": "powershell"
            },
            "outputs": [],
            "execution_count": null
        },
        {
            "cell_type": "markdown",
            "source": [
                "## Set a subscription to be the current active subscription\n",
                "\n",
                "(needed only if you multiple subscriptions associated with your account)"
            ],
            "metadata": {
                "azdata_cell_guid": "fd07dc4f-70ae-49ca-b469-11c09eb99eae"
            },
            "attachments": {}
        },
        {
            "cell_type": "code",
            "source": [
                "az account set --subscription \"\""
            ],
            "metadata": {
                "azdata_cell_guid": "61be40c6-e8c7-42af-8f51-06334f86c332",
                "language": "powershell"
            },
            "outputs": [],
            "execution_count": null
        },
        {
            "cell_type": "markdown",
            "source": [
                "## Install the Cosmos DB preview CLI  extension that contains the container copy commands."
            ],
            "metadata": {
                "language": "powershell",
                "azdata_cell_guid": "bbebdbc7-4bb4-4e97-a59e-dfd0d7048b70"
            },
            "attachments": {}
        },
        {
            "cell_type": "code",
            "source": [
                "az extension add --name cosmosdb-preview"
            ],
            "metadata": {
                "language": "powershell",
                "azdata_cell_guid": "7572b8a9-85e7-4dae-b58e-234dadab923c"
            },
            "outputs": [],
            "execution_count": null
        },
        {
            "cell_type": "markdown",
            "source": [
                "## Specify parameters necessary for the copy"
            ],
            "metadata": {
                "azdata_cell_guid": "38b8bd7d-9a45-4d85-9b27-7b3506a066ee"
            },
            "attachments": {}
        },
        {
            "cell_type": "code",
            "source": [
                "$cosmosdbaccountname = \"cosmosDBAccountName\"\n",
                "$rg = \"resourceGroupName\"\n",
                "$copyJobName = \"\"\n",
                "$sourceDb = \"\"\n",
                "$sourceContainer = \"\"\n",
                "$destinationDb = \"\"\n",
                "$destinationContainer = \"\""
            ],
            "metadata": {
                "azdata_cell_guid": "96ac351d-7468-4ddf-b59f-51347bb2505e",
                "tags": [
                    "parameters"
                ],
                "language": "powershell"
            },
            "outputs": [],
            "execution_count": null
        },
        {
            "cell_type": "markdown",
            "source": [
                "## Create container copy job"
            ],
            "metadata": {
                "azdata_cell_guid": "e8753aeb-71d3-4f45-add9-fbc03c9fc2cd"
            },
            "attachments": {}
        },
        {
            "cell_type": "code",
            "source": [
                "az cosmosdb dts copy -g $rg --job-name $copyJobName --account-name $cosmosdbaccountname \\\n",
                "    --source-sql-container database=$sourceDb container=$sourceContainer \\\n",
                "    --dest-sql-container database=$destinationDb container=$destinationContainer"
            ],
            "metadata": {
                "azdata_cell_guid": "beb669d0-824f-4595-99ab-2897147f6c08",
                "language": "powershell"
            },
            "outputs": [],
            "execution_count": null
        },
        {
            "cell_type": "markdown",
            "source": [
                "## Monitor the progress of the container copy job"
            ],
            "metadata": {
                "azdata_cell_guid": "347ecc45-5f1b-4011-9a0c-b8e23f28954c"
            },
            "attachments": {}
        },
        {
            "cell_type": "code",
            "source": [
                "az cosmosdb dts show --account-name  $cosmosdbaccountname -g $rg --job-name $copyJobname"
            ],
            "metadata": {
                "azdata_cell_guid": "9a46d129-90ea-46ac-a7f0-082c9d1763d9",
                "language": "powershell"
            },
            "outputs": [],
            "execution_count": null
        }
    ]
}