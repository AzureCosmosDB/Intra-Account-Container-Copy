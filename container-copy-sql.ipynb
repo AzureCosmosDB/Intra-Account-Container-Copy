{
    "cells": [
        {
            "attachments": {},
            "cell_type": "markdown",
            "metadata": {
                "azdata_cell_guid": "098d3b36-6ce8-4728-8018-37e5585cd578"
            },
            "source": [
                "# Create and monitor copy collection jobs in Azure Cosmos DB SQL API account"
            ]
        },
        {
            "attachments": {},
            "cell_type": "markdown",
            "metadata": {
                "azdata_cell_guid": "091f799f-e5ef-4361-b849-f3a48c318aee"
            },
            "source": [
                "## Login to the Subscription."
            ]
        },
        {
            "cell_type": "code",
            "execution_count": null,
            "metadata": {
                "azdata_cell_guid": "f140e01a-878a-4d53-b798-9312d1de8d80"
            },
            "outputs": [],
            "source": [
                "az login"
            ]
        },
        {
            "attachments": {},
            "cell_type": "markdown",
            "metadata": {
                "azdata_cell_guid": "fd07dc4f-70ae-49ca-b469-11c09eb99eae"
            },
            "source": [
                "## Set a subscription to be the current active subscription\n",
                "\n",
                "(needed only if you multiple subscriptions associated with your account)"
            ]
        },
        {
            "cell_type": "code",
            "execution_count": null,
            "metadata": {
                "azdata_cell_guid": "61be40c6-e8c7-42af-8f51-06334f86c332"
            },
            "outputs": [],
            "source": [
                "az account set --subscription \"\""
            ]
        },
        {
            "attachments": {},
            "cell_type": "markdown",
            "metadata": {
                "azdata_cell_guid": "38b8bd7d-9a45-4d85-9b27-7b3506a066ee"
            },
            "source": [
                "## Specify parameters necessary for the copy  \n",
                "**Note:** <span style=\"font-size: 14px;\">&nbsp;armlocation is required for private preview az cli extension,&nbsp;</span> _please don't modify it_"
            ]
        },
        {
            "cell_type": "code",
            "execution_count": null,
            "metadata": {
                "azdata_cell_guid": "96ac351d-7468-4ddf-b59f-51347bb2505e",
                "tags": [
                    "parameters"
                ]
            },
            "outputs": [],
            "source": [
                "$cosmosdbaccountname = \"cosmosDBAccountName\"\n",
                "$rg = \"resourceGroupName\"\n",
                "$copyJobName = \"\"\n",
                "$sourceContainer = \"\"\n",
                "$sourceDb = \"\"\n",
                "$destinationContainer = \"\"\n",
                "$destinationDb = \"\""
            ]
        },
        {
            "attachments": {},
            "cell_type": "markdown",
            "metadata": {
                "azdata_cell_guid": "e8753aeb-71d3-4f45-add9-fbc03c9fc2cd"
            },
            "source": [
                "## Create container copy job"
            ]
        },
        {
            "cell_type": "code",
            "execution_count": null,
            "metadata": {
                "azdata_cell_guid": "beb669d0-824f-4595-99ab-2897147f6c08"
            },
            "outputs": [],
            "source": [
                "az cosmosdb dts copy -g $rg --job-name $jobName --account-name $cosmosdbaccountname \\\n",
                "    --source-sql-container database=$sourceContainer container=$sourceDb \\\n",
                "    --dest-sql-container database=$destinationContainer container=$destinationDb"
            ]
        },
        {
            "attachments": {},
            "cell_type": "markdown",
            "metadata": {
                "azdata_cell_guid": "347ecc45-5f1b-4011-9a0c-b8e23f28954c"
            },
            "source": [
                "## Monitor the progress of the container copy job"
            ]
        },
        {
            "cell_type": "code",
            "execution_count": null,
            "metadata": {
                "azdata_cell_guid": "9a46d129-90ea-46ac-a7f0-082c9d1763d9"
            },
            "outputs": [],
            "source": [
                "az cosmosdb dts show --account-name  $cosmosdbaccountname -g $rg --job-name $copyJobname"
            ]
        }
    ],
    "metadata": {
        "kernelspec": {
            "display_name": "PowerShell",
            "language": "powershell",
            "name": "powershell"
        },
        "language_info": {
            "codemirror_mode": "shell",
            "file_extension": ".ps1",
            "mimetype": "text/x-sh",
            "name": "powershell"
        }
    },
    "nbformat": 4,
    "nbformat_minor": 2
}
