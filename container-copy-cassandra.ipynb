{
    "metadata": {
        "kernelspec": {
            "name": "powershell",
            "display_name": "PowerShell",
            "language": "powershell"
        },
        "language_info": {
            "name": "powershell",
            "codemirror_mode": "shell",
            "mimetype": "text/x-sh",
            "file_extension": ".ps1"
        }
    },
    "nbformat_minor": 2,
    "nbformat": 4,
    "cells": [
        {
            "cell_type": "markdown",
            "source": [
                "# Create and monitor copy container jobs in Azure Cosmos DB Cassandra API account"
            ],
            "metadata": {
                "azdata_cell_guid": "098d3b36-6ce8-4728-8018-37e5585cd578"
            },
            "attachments": {}
        },
        {
            "cell_type": "markdown",
            "source": [
                "## Login to the Subscription."
            ],
            "metadata": {
                "azdata_cell_guid": "091f799f-e5ef-4361-b849-f3a48c318aee"
            },
            "attachments": {}
        },
        {
            "cell_type": "code",
            "source": [
                "az login"
            ],
            "metadata": {
                "azdata_cell_guid": "f140e01a-878a-4d53-b798-9312d1de8d80"
            },
            "outputs": [],
            "execution_count": null
        },
        {
            "cell_type": "markdown",
            "source": [
                "## Set a subscription to be the current active subscription\n",
                "\n",
                "(needed only if you multiple subscriptions associated with your account)"
            ],
            "metadata": {
                "azdata_cell_guid": "fd07dc4f-70ae-49ca-b469-11c09eb99eae"
            },
            "attachments": {}
        },
        {
            "cell_type": "code",
            "source": [
                "az account set --subscription \"\""
            ],
            "metadata": {
                "azdata_cell_guid": "61be40c6-e8c7-42af-8f51-06334f86c332"
            },
            "outputs": [],
            "execution_count": null
        },
        {
            "cell_type": "markdown",
            "source": [
                "## Specify parameters necessary for the copy"
            ],
            "metadata": {
                "azdata_cell_guid": "38b8bd7d-9a45-4d85-9b27-7b3506a066ee"
            },
            "attachments": {}
        },
        {
            "cell_type": "code",
            "source": [
                "$cosmosdbaccountname = \"cosmosDBAccountName\"\n",
                "$rg = \"resourceGroupName\"\n",
                "$copyJobName = \"\"\n",
                "$sourceKeySpace = \"\"\n",
                "$sourceTable = \"\"\n",
                "$destinationKeySpace = \"\"\n",
                "$destinationTable = \"\"\n",
                "$location = \"centralus\"\n",
                "$armlocation = \"centraluseuap\""
            ],
            "metadata": {
                "azdata_cell_guid": "96ac351d-7468-4ddf-b59f-51347bb2505e",
                "tags": [
                    "parameters"
                ]
            },
            "outputs": [],
            "execution_count": null
        },
        {
            "cell_type": "markdown",
            "source": [
                "### Load Data Transfer Private AZ CLI Package\n",
                "\n",
                "Please ignore below warning and error in the output(this is common if you re-execute the script):\n",
                "\n",
                "- WARNING: Command group 'config' is experimental and under development\n",
                "- ERROR: The extension cosmosdb-preview already exists"
            ],
            "metadata": {
                "azdata_cell_guid": "571a5e5c-2662-488a-aac6-eea864bc5d57"
            },
            "attachments": {}
        },
        {
            "cell_type": "code",
            "source": [
                "az cloud update --endpoint-resource-manager \"https://$armlocation.management.azure.com\"\r\n",
                "az config set defaults.location=$location --local\r\n",
                "az extension add --source https://dtsclidist.blob.core.windows.net/cli-private-preview/V2/cosmosdb_preview-0.10.0-py2.py3-none-any.whl -y"
            ],
            "metadata": {
                "azdata_cell_guid": "e2bb897c-e51e-45c1-82db-f8a416f84d7d"
            },
            "outputs": [],
            "execution_count": null
        },
        {
            "cell_type": "markdown",
            "source": [
                "## Provision the server-side instances for the copy jobs"
            ],
            "metadata": {
                "azdata_cell_guid": "7c93c739-d3c3-4c77-93f0-82bfebd967db"
            },
            "attachments": {}
        },
        {
            "cell_type": "code",
            "source": [
                "az cosmosdb service create --account-name $cosmosdbaccountname -g $rg --service-name DataTransferService --kind \"DataTransferService\" --count 1 --size \"Cosmos.D4s\""
            ],
            "metadata": {
                "azdata_cell_guid": "4a723f3a-960d-4819-9ae9-d1d961d21746"
            },
            "outputs": [],
            "execution_count": null
        },
        {
            "cell_type": "markdown",
            "source": [
                "## Create container copy job"
            ],
            "metadata": {
                "azdata_cell_guid": "e8753aeb-71d3-4f45-add9-fbc03c9fc2cd"
            },
            "attachments": {}
        },
        {
            "cell_type": "code",
            "source": [
                "az cosmosdb dts copy -g $rg --job-name $jobName --account-name $cosmosdbaccountname \\\n",
                "    --source-cassandra-table keyspace=$sourceKeySpace table=$sourceTable \\\n",
                "    --dest-cassandra-table keyspace=$destinationKeySpace table=$destinationTable"
            ],
            "metadata": {
                "azdata_cell_guid": "beb669d0-824f-4595-99ab-2897147f6c08"
            },
            "outputs": [],
            "execution_count": null
        },
        {
            "cell_type": "markdown",
            "source": [
                "## Monitor the progress of the container copy job"
            ],
            "metadata": {
                "azdata_cell_guid": "347ecc45-5f1b-4011-9a0c-b8e23f28954c"
            },
            "attachments": {}
        },
        {
            "cell_type": "code",
            "source": [
                "az cosmosdb dts show --account-name  $cosmosdbaccountname -g $rg --job-name $copyJobname"
            ],
            "metadata": {
                "azdata_cell_guid": "9a46d129-90ea-46ac-a7f0-082c9d1763d9"
            },
            "outputs": [],
            "execution_count": null
        },
        {
            "cell_type": "markdown",
            "source": [
                "## Delete the server-side instances created for the copy"
            ],
            "metadata": {
                "azdata_cell_guid": "5c5c37e3-adef-498e-9d66-54b4b36a22ea"
            },
            "attachments": {}
        },
        {
            "cell_type": "code",
            "source": [
                "az cosmosdb service delete --account-name $cosmosdbaccountname -g $rg --service-name \"DataTransferService\" --yes"
            ],
            "metadata": {
                "azdata_cell_guid": "35f14d57-3949-4167-ab35-31fd4399ced6"
            },
            "outputs": [],
            "execution_count": null
        }
    ]
}